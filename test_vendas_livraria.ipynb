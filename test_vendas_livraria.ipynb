{
 "cells": [
  {
   "cell_type": "code",
   "execution_count": 0,
   "metadata": {
    "application/vnd.databricks.v1+cell": {
     "cellMetadata": {
      "byteLimit": 2048000,
      "rowLimit": 10000
     },
     "inputWidgets": {},
     "nuid": "93787c35-c641-4a72-9cd7-a06f9fb6fd56",
     "showTitle": false,
     "tableResultSettingsMap": {},
     "title": ""
    }
   },
   "outputs": [
    {
     "output_type": "display_data",
     "data": {
      "text/markdown": [
       "# Imports, inicialização dos logs e Workspace Client"
      ]
     },
     "metadata": {},
     "output_type": "display_data"
    },
    {
     "output_type": "stream",
     "name": "stdout",
     "output_type": "stream",
     "text": [
      "Requirement already satisfied: databricks-labs-dqx in /local_disk0/.ephemeral_nfs/envs/pythonEnv-6bd88bbc-100f-48f6-ad16-21cf590f5551/lib/python3.11/site-packages (0.6.0)\nRequirement already satisfied: databricks-labs-blueprint<0.10,>=0.9.1 in /local_disk0/.ephemeral_nfs/envs/pythonEnv-6bd88bbc-100f-48f6-ad16-21cf590f5551/lib/python3.11/site-packages (from databricks-labs-dqx) (0.9.3)\nRequirement already satisfied: databricks-labs-lsql<0.15,>=0.5 in /local_disk0/.ephemeral_nfs/envs/pythonEnv-6bd88bbc-100f-48f6-ad16-21cf590f5551/lib/python3.11/site-packages (from databricks-labs-dqx) (0.14.2)\nRequirement already satisfied: databricks-sdk~=0.57 in /local_disk0/.ephemeral_nfs/envs/pythonEnv-6bd88bbc-100f-48f6-ad16-21cf590f5551/lib/python3.11/site-packages (from databricks-labs-dqx) (0.57.0)\nRequirement already satisfied: sqlglot>=22.3.1 in /local_disk0/.ephemeral_nfs/envs/pythonEnv-6bd88bbc-100f-48f6-ad16-21cf590f5551/lib/python3.11/site-packages (from databricks-labs-lsql<0.15,>=0.5->databricks-labs-dqx) (26.31.0)\nRequirement already satisfied: requests<3,>=2.28.1 in /databricks/python3/lib/python3.11/site-packages (from databricks-sdk~=0.57->databricks-labs-dqx) (2.31.0)\nRequirement already satisfied: google-auth~=2.0 in /databricks/python3/lib/python3.11/site-packages (from databricks-sdk~=0.57->databricks-labs-dqx) (2.35.0)\nRequirement already satisfied: pyyaml<7.0.0,>=6.0.0 in /databricks/python3/lib/python3.11/site-packages (from databricks-labs-blueprint[yaml]>=0.4.2->databricks-labs-lsql<0.15,>=0.5->databricks-labs-dqx) (6.0)\nRequirement already satisfied: cachetools<6.0,>=2.0.0 in /databricks/python3/lib/python3.11/site-packages (from google-auth~=2.0->databricks-sdk~=0.57->databricks-labs-dqx) (5.5.0)\nRequirement already satisfied: pyasn1-modules>=0.2.1 in /databricks/python3/lib/python3.11/site-packages (from google-auth~=2.0->databricks-sdk~=0.57->databricks-labs-dqx) (0.2.8)\nRequirement already satisfied: rsa<5,>=3.1.4 in /databricks/python3/lib/python3.11/site-packages (from google-auth~=2.0->databricks-sdk~=0.57->databricks-labs-dqx) (4.9)\nRequirement already satisfied: charset-normalizer<4,>=2 in /databricks/python3/lib/python3.11/site-packages (from requests<3,>=2.28.1->databricks-sdk~=0.57->databricks-labs-dqx) (2.0.4)\nRequirement already satisfied: idna<4,>=2.5 in /databricks/python3/lib/python3.11/site-packages (from requests<3,>=2.28.1->databricks-sdk~=0.57->databricks-labs-dqx) (3.4)\nRequirement already satisfied: urllib3<3,>=1.21.1 in /databricks/python3/lib/python3.11/site-packages (from requests<3,>=2.28.1->databricks-sdk~=0.57->databricks-labs-dqx) (1.26.16)\nRequirement already satisfied: certifi>=2017.4.17 in /databricks/python3/lib/python3.11/site-packages (from requests<3,>=2.28.1->databricks-sdk~=0.57->databricks-labs-dqx) (2023.7.22)\nRequirement already satisfied: pyasn1<0.5.0,>=0.4.6 in /databricks/python3/lib/python3.11/site-packages (from pyasn1-modules>=0.2.1->google-auth~=2.0->databricks-sdk~=0.57->databricks-labs-dqx) (0.4.8)\n\u001B[43mNote: you may need to restart the kernel using %restart_python or dbutils.library.restartPython() to use updated packages.\u001B[0m\n"
     ]
    },
    {
     "output_type": "display_data",
     "data": {
      "text/markdown": [
       "# Funções de qualidade de dados"
      ]
     },
     "metadata": {},
     "output_type": "display_data"
    },
    {
     "output_type": "display_data",
     "data": {
      "text/markdown": [
       "# Lendo a tabela criada"
      ]
     },
     "metadata": {},
     "output_type": "display_data"
    },
    {
     "output_type": "stream",
     "name": "stdout",
     "output_type": "stream",
     "text": [
      "+----------+--------+--------------+--------+---------+--------------------+----------+--------------------+------+\n|data_venda|id_venda|id_linha_venda|id_livro|qtde_item|          nome_livro| categoria|               autor| preco|\n+----------+--------+--------------+--------+---------+--------------------+----------+--------------------+------+\n|2025-02-04|    4073|          4403|       5|        2|        Dom Casmurro|    Ficção|    Machado de Assis| 86.81|\n|2024-08-25|    5136|          5466|       5|        4|        Dom Casmurro|    Ficção|    Machado de Assis|131.48|\n|2024-12-18|    NULL|          4485|       2|        5|                1984|    Ficção|       George Orwell| 92.92|\n|2025-05-08|    2451|          2781|       9|        2|A Revolução dos B...|    Ficção|       George Orwell|139.69|\n|2024-12-29|    4615|          4945|       1|        1|A Menina que Roub...|    Ficção|        Markus Zusak| 92.76|\n|2025-02-27|    2825|          3155|       8|        5|  O Pequeno Príncipe|    Ficção|Antoine de Saint-...| 42.17|\n|2025-01-02|    3661|          3991|       8|        2|  O Pequeno Príncipe|    Ficção|Antoine de Saint-...| 27.56|\n|2024-09-29|    8160|          8490|       2|        2|                1984|    Ficção|       George Orwell| 26.52|\n|2025-01-28|    8906|          9236|       6|        3|Orgulho e Preconc...|    Ficção|         Jane Austen| 81.92|\n|2024-06-25|    1687|          2017|       9|        2|A Revolução dos B...|    Ficção|       George Orwell| 44.85|\n|2024-12-23|    2267|          2597|       3|        4|             Sapiens|Não Ficção|   Yuval Noah Harari| 48.47|\n|2025-04-19|    6894|          7224|       2|        3|                1984|    Ficção|       George Orwell| 33.35|\n|2024-07-14|    5825|          6155|       6|        5|Orgulho e Preconc...|    Ficção|         Jane Austen|107.09|\n|2025-04-06|    7838|          8168|       8|        4|  O Pequeno Príncipe|    Ficção|Antoine de Saint-...| 82.48|\n|2025-06-01|    9220|          9550|       3|        1|             Sapiens|Não Ficção|   Yuval Noah Harari|110.05|\n|2025-03-08|    5340|          5670|       3|        4|             Sapiens|Não Ficção|   Yuval Noah Harari| 64.24|\n|2024-09-14|      74|           221|       2|        5|                1984|    Ficção|       George Orwell|123.14|\n|2025-05-02|    9562|          9892|       7|        5|   O Código Da Vinci|    Ficção|           Dan Brown|134.48|\n|2024-11-10|    6253|          6583|       8|        4|  O Pequeno Príncipe|    Ficção|Antoine de Saint-...|126.21|\n|2024-10-21|    8804|          9134|       1|        1|A Menina que Roub...|    Ficção|        Markus Zusak| 95.93|\n+----------+--------+--------------+--------+---------+--------------------+----------+--------------------+------+\nonly showing top 20 rows\n"
     ]
    },
    {
     "output_type": "execute_result",
     "data": {
      "text/plain": [
       "DataFrame[]"
      ]
     },
     "execution_count": 4,
     "metadata": {},
     "output_type": "execute_result"
    },
    {
     "output_type": "display_data",
     "data": {
      "text/markdown": [
       "\n",
       "# Testes de qualidade na tabela utilizando o DQX"
      ]
     },
     "metadata": {},
     "output_type": "display_data"
    },
    {
     "output_type": "stream",
     "name": "stdout",
     "output_type": "stream",
     "text": [
      "id_venda: {'count': 1000, 'mean': 4837.601214574899, 'stddev': 2842.488875969202, 'min': 1, '25%': 2537, '50%': 4887, '75%': 7294, 'max': 9666, 'count_non_null': 988, 'count_null': 12}\nid_linha_venda: {'count': 1000, 'mean': 5145.453, 'stddev': 2849.663524346865, 'min': 2, '25%': 2857, '50%': 5195, '75%': 7591, 'max': 9996, 'count_non_null': 1000, 'count_null': 0}\nid_livro: {'count': 1000, 'mean': 4.926, 'stddev': 2.5598978645791823, 'min': 1, '25%': 3, '50%': 5, '75%': 7, 'max': 9, 'count_non_null': 1000, 'count_null': 0}\nqtde_item: {'count': 1000, 'mean': 2.968, 'stddev': 1.4173866744770054, 'min': 1, '25%': 2, '50%': 3, '75%': 4, 'max': 5, 'count_non_null': 1000, 'count_null': 0}\nnome_livro: {'count': 1000, 'mean': 1984.0, 'stddev': 0.0, 'min': '1984', '25%': '1984.0', '50%': '1984.0', '75%': '1984.0', 'max': 'Sapiens', 'count_non_null': 1000, 'count_null': 0}\ncategoria: {'count': 1000, 'mean': None, 'stddev': None, 'min': 'Ficção', '25%': None, '50%': None, '75%': None, 'max': 'Não Ficção', 'count_non_null': 1000, 'count_null': 0}\nautor: {'count': 1000, 'mean': None, 'stddev': None, 'min': 'Antoine de Saint-Exupéry', '25%': None, '50%': None, '75%': None, 'max': 'Yuval Noah Harari', 'count_non_null': 1000, 'count_null': 0}\npreco: {'count': 1000, 'mean': 82.95075999999996, 'stddev': 38.36836520456495, 'min': 20.08, '25%': 49.13, '50%': 81.0, '75%': 115.93, 'max': 149.86, 'count_non_null': 1000, 'count_null': 0}\ndata_venda: {'count': 1000, 'count_non_null': 1000, 'count_null': 0, 'min': datetime.date(2024, 6, 16), 'max': datetime.date(2025, 6, 16), 'mean': datetime.date(2024, 12, 16)}\nDQProfile(name='is_not_null', column='data_venda', description=None, parameters=None)\nDQProfile(name='min_max', column='data_venda', description='Real min/max values were used', parameters={'min': datetime.date(2024, 6, 16), 'max': datetime.date(2025, 6, 16)})\nDQProfile(name='min_max', column='id_venda', description='Real min/max values were used', parameters={'min': 1, 'max': 9666})\nDQProfile(name='is_not_null', column='id_linha_venda', description=None, parameters=None)\nDQProfile(name='min_max', column='id_linha_venda', description='Real min/max values were used', parameters={'min': 2, 'max': 9996})\nDQProfile(name='is_not_null', column='id_livro', description=None, parameters=None)\nDQProfile(name='is_in', column='id_livro', description=None, parameters={'in': [5, 1, 8, 2, 6, 3, 4, 9, 7]})\nDQProfile(name='min_max', column='id_livro', description='Real min/max values were used', parameters={'min': 1, 'max': 9})\nDQProfile(name='is_not_null', column='qtde_item', description=None, parameters=None)\nDQProfile(name='is_in', column='qtde_item', description=None, parameters={'in': [2, 1, 3, 5, 4]})\nDQProfile(name='min_max', column='qtde_item', description='Real min/max values were used', parameters={'min': 1, 'max': 5})\nDQProfile(name='is_not_null', column='nome_livro', description=None, parameters=None)\nDQProfile(name='is_in', column='nome_livro', description=None, parameters={'in': ['Dom Casmurro', 'A Menina que Roubava Livros', 'O Pequeno Príncipe', '1984', 'Orgulho e Preconceito', 'Sapiens', 'O Hobbit', 'A Revolução dos Bichos', 'O Código Da Vinci']})\nDQProfile(name='is_not_null', column='categoria', description=None, parameters=None)\nDQProfile(name='is_in', column='categoria', description=None, parameters={'in': ['Ficção', 'Não Ficção']})\nDQProfile(name='is_not_null', column='autor', description=None, parameters=None)\nDQProfile(name='is_in', column='autor', description=None, parameters={'in': ['Machado de Assis', 'Markus Zusak', 'Antoine de Saint-Exupéry', 'George Orwell', 'Jane Austen', 'Yuval Noah Harari', 'J.R.R. Tolkien', 'Dan Brown']})\nDQProfile(name='is_not_null', column='preco', description=None, parameters=None)\nDQProfile(name='min_max', column='preco', description='Real min/max values were used', parameters={'min': 20.08, 'max': 149.86})\n"
     ]
    },
    {
     "output_type": "stream",
     "name": "stdout",
     "output_type": "stream",
     "text": [
      "{'check': {'function': 'is_not_null', 'arguments': {'column': 'data_venda'}}, 'name': 'data_venda_is_null', 'criticality': 'error'}\n{'check': {'function': 'is_in_range', 'arguments': {'column': 'id_venda', 'min_limit': 1, 'max_limit': 9666}}, 'name': 'id_venda_isnt_in_range', 'criticality': 'error'}\n{'check': {'function': 'is_not_null', 'arguments': {'column': 'id_linha_venda'}}, 'name': 'id_linha_venda_is_null', 'criticality': 'error'}\n{'check': {'function': 'is_in_range', 'arguments': {'column': 'id_linha_venda', 'min_limit': 2, 'max_limit': 9996}}, 'name': 'id_linha_venda_isnt_in_range', 'criticality': 'error'}\n{'check': {'function': 'is_not_null', 'arguments': {'column': 'id_livro'}}, 'name': 'id_livro_is_null', 'criticality': 'error'}\n{'check': {'function': 'is_in_list', 'arguments': {'column': 'id_livro', 'allowed': [5, 1, 8, 2, 6, 3, 4, 9, 7]}}, 'name': 'id_livro_other_value', 'criticality': 'error'}\n{'check': {'function': 'is_in_range', 'arguments': {'column': 'id_livro', 'min_limit': 1, 'max_limit': 9}}, 'name': 'id_livro_isnt_in_range', 'criticality': 'error'}\n{'check': {'function': 'is_not_null', 'arguments': {'column': 'qtde_item'}}, 'name': 'qtde_item_is_null', 'criticality': 'error'}\n{'check': {'function': 'is_in_list', 'arguments': {'column': 'qtde_item', 'allowed': [2, 1, 3, 5, 4]}}, 'name': 'qtde_item_other_value', 'criticality': 'error'}\n{'check': {'function': 'is_in_range', 'arguments': {'column': 'qtde_item', 'min_limit': 1, 'max_limit': 5}}, 'name': 'qtde_item_isnt_in_range', 'criticality': 'error'}\n{'check': {'function': 'is_not_null', 'arguments': {'column': 'nome_livro'}}, 'name': 'nome_livro_is_null', 'criticality': 'error'}\n{'check': {'function': 'is_in_list', 'arguments': {'column': 'nome_livro', 'allowed': ['Dom Casmurro', 'A Menina que Roubava Livros', 'O Pequeno Príncipe', '1984', 'Orgulho e Preconceito', 'Sapiens', 'O Hobbit', 'A Revolução dos Bichos', 'O Código Da Vinci']}}, 'name': 'nome_livro_other_value', 'criticality': 'error'}\n{'check': {'function': 'is_not_null', 'arguments': {'column': 'categoria'}}, 'name': 'categoria_is_null', 'criticality': 'error'}\n{'check': {'function': 'is_in_list', 'arguments': {'column': 'categoria', 'allowed': ['Ficção', 'Não Ficção']}}, 'name': 'categoria_other_value', 'criticality': 'error'}\n{'check': {'function': 'is_not_null', 'arguments': {'column': 'autor'}}, 'name': 'autor_is_null', 'criticality': 'error'}\n{'check': {'function': 'is_in_list', 'arguments': {'column': 'autor', 'allowed': ['Machado de Assis', 'Markus Zusak', 'Antoine de Saint-Exupéry', 'George Orwell', 'Jane Austen', 'Yuval Noah Harari', 'J.R.R. Tolkien', 'Dan Brown']}}, 'name': 'autor_other_value', 'criticality': 'error'}\n{'check': {'function': 'is_not_null', 'arguments': {'column': 'preco'}}, 'name': 'preco_is_null', 'criticality': 'error'}\n"
     ]
    },
    {
     "output_type": "stream",
     "name": "stdout",
     "output_type": "stream",
     "text": [
      "+----------+--------+--------------+--------+---------+--------------------+---------+----------------+------+\n|data_venda|id_venda|id_linha_venda|id_livro|qtde_item|          nome_livro|categoria|           autor| preco|\n+----------+--------+--------------+--------+---------+--------------------+---------+----------------+------+\n|2025-02-04|    4073|          4403|       5|        2|        Dom Casmurro|   Ficção|Machado de Assis| 86.81|\n|2024-08-25|    5136|          5466|       5|        4|        Dom Casmurro|   Ficção|Machado de Assis|131.48|\n|2024-12-18|    NULL|          4485|       2|        5|                1984|   Ficção|   George Orwell| 92.92|\n|2025-05-08|    2451|          2781|       9|        2|A Revolução dos B...|   Ficção|   George Orwell|139.69|\n|2024-12-29|    4615|          4945|       1|        1|A Menina que Roub...|   Ficção|    Markus Zusak| 92.76|\n+----------+--------+--------------+--------+---------+--------------------+---------+----------------+------+\n\n"
     ]
    },
    {
     "output_type": "stream",
     "name": "stdout",
     "output_type": "stream",
     "text": [
      "+----------+--------+--------------+--------+---------+----------+---------+-----+-----+\n|data_venda|id_venda|id_linha_venda|id_livro|qtde_item|nome_livro|categoria|autor|preco|\n+----------+--------+--------------+--------+---------+----------+---------+-----+-----+\n|         0|     101|             0|       0|        0|         0|        0|    0|    0|\n+----------+--------+--------------+--------+---------+----------+---------+-----+-----+\n\n"
     ]
    }
   ],
   "source": [
    "%run /Workspace/Users/joao.vitormsilva@usp.br/vendas_livraria/vendas_livraria\n",
    "\n"
   ]
  },
  {
   "cell_type": "code",
   "execution_count": 0,
   "metadata": {
    "application/vnd.databricks.v1+cell": {
     "cellMetadata": {
      "byteLimit": 2048000,
      "rowLimit": 10000
     },
     "inputWidgets": {},
     "nuid": "2d635e6e-2b77-4094-a650-affbc6f169b8",
     "showTitle": false,
     "tableResultSettingsMap": {},
     "title": ""
    }
   },
   "outputs": [
    {
     "output_type": "stream",
     "name": "stderr",
     "output_type": "stream",
     "text": [
      "test_read_file (__main__.TestReadFile.test_read_file) ... ok\n\n----------------------------------------------------------------------\nRan 1 test in 0.973s\n\nOK\n"
     ]
    },
    {
     "output_type": "stream",
     "name": "stdout",
     "output_type": "stream",
     "text": [
      "+----------+-------------------+\n|data_venda|valor_autor_popular|\n+----------+-------------------+\n|2024-06-16|                 29|\n|2024-06-17|                 23|\n|2024-06-18|                 19|\n|2024-06-19|                 12|\n|2024-06-20|                 19|\n+----------+-------------------+\n\n"
     ]
    },
    {
     "output_type": "execute_result",
     "data": {
      "text/plain": [
       "StructType([StructField('data_venda', DateType(), True), StructField('id_venda', LongType(), True), StructField('id_linha_venda', LongType(), True), StructField('id_livro', LongType(), True), StructField('qtde_item', LongType(), True), StructField('nome_livro', StringType(), True), StructField('categoria', StringType(), True), StructField('autor', StringType(), True), StructField('preco', DoubleType(), True)])"
      ]
     },
     "execution_count": 13,
     "metadata": {},
     "output_type": "execute_result"
    },
    {
     "output_type": "stream",
     "name": "stdout",
     "output_type": "stream",
     "text": [
      "+----------+------------+-----------------+-------------------+------------------+------------------+-----------------+-------------------+\n|data_venda|total_vendas|quantidade_ficcao|quantidade_n_ficcao|valor_maximo_venda|valor_minimo_venda|valor_medio_venda|valor_autor_popular|\n+----------+------------+-----------------+-------------------+------------------+------------------+-----------------+-------------------+\n|2024-06-16|          89|               83|                  6|            743.35|             42.72|           213.84|                 29|\n|2024-06-17|         127|              104|                 23|             678.1|             34.87|           245.68|                 23|\n|2024-06-18|          63|               45|                 18|            746.65|             21.85|           267.73|                 19|\n|2024-06-19|          58|               52|                  6|             620.0|             21.73|           210.12|                 12|\n|2024-06-20|          66|               57|                  9|            696.25|              24.0|           270.21|                 19|\n+----------+------------+-----------------+-------------------+------------------+------------------+-----------------+-------------------+\n\n"
     ]
    },
    {
     "output_type": "execute_result",
     "data": {
      "text/plain": [
       "DataFrame[]"
      ]
     },
     "execution_count": 16,
     "metadata": {},
     "output_type": "execute_result"
    },
    {
     "output_type": "stream",
     "name": "stdout",
     "output_type": "stream",
     "text": [
      "George Orwell\n"
     ]
    },
    {
     "output_type": "stream",
     "name": "stdout",
     "output_type": "stream",
     "text": [
      "2024-06-17\n"
     ]
    }
   ],
   "source": [
    "import unittest\n",
    "import logging\n",
    "from pyspark.sql import functions as F\n",
    "\n",
    "logging.basicConfig(level=logging.INFO)\n",
    "logger = logging.getLogger(__name__)\n",
    "\n",
    "class TestReadFile(unittest.TestCase):\n",
    "\n",
    "    def test_read_file(self):\n",
    "        logger.info(\"Teste de leitura de arquivo\")\n",
    "\n",
    "        df_inicial = spark.table('workspace.bronze.vendas_livros')\n",
    "\n",
    "        logger.info(f'Tamanho do arquivo: {df_inicial.count()}')\n",
    "\n",
    "        self.assertIsNotNone(df_inicial)\n",
    "        self.assertGreater(df_inicial.count(), 0)\n",
    "\n",
    "if __name__ == '__main__':\n",
    "    unittest.main(argv=[''], verbosity=2, exit=False)"
   ]
  },
  {
   "cell_type": "code",
   "execution_count": 0,
   "metadata": {
    "application/vnd.databricks.v1+cell": {
     "cellMetadata": {
      "byteLimit": 2048000,
      "rowLimit": 10000
     },
     "inputWidgets": {},
     "nuid": "8243c2a8-0813-4af4-8beb-f293c5d622e9",
     "showTitle": false,
     "tableResultSettingsMap": {},
     "title": ""
    }
   },
   "outputs": [
    {
     "output_type": "stream",
     "name": "stderr",
     "output_type": "stream",
     "text": [
      "test_read_file (__main__.TestReadFile.test_read_file) ... ok\ntest_schema_table (__main__.TestSuiteSchemaTable.test_schema_table) ... ok\n\n----------------------------------------------------------------------\nRan 2 tests in 0.971s\n\nOK\n"
     ]
    }
   ],
   "source": [
    "import unittest\n",
    "import logging\n",
    "from pyspark.sql import functions as F\n",
    "\n",
    "logging.basicConfig(level=logging.INFO)\n",
    "logger = logging.getLogger(__name__)\n",
    "\n",
    "class TestSuiteSchemaTable(unittest.TestCase):\n",
    "\n",
    "    def test_schema_table(self):\n",
    "        logger.info(\"Teste de validação do schema da tabela bronze\")\n",
    "\n",
    "        df_inicial = spark.table('workspace.bronze.vendas_livros')\n",
    "        expected_schema = {\n",
    "            \"data_venda\": \"date\",\n",
    "            \"id_venda\": \"bigint\",\n",
    "            \"id_linha_venda\": \"bigint\",\n",
    "            \"id_livro\": \"bigint\",\n",
    "            \"qtde_item\": \"bigint\",\n",
    "            \"nome_livro\": \"string\",\n",
    "            \"categoria\": \"string\",\n",
    "            \"autor\": \"string\",\n",
    "            \"preco\": \"double\"\n",
    "        }\n",
    "        for field in df_inicial.schema.fields:\n",
    "            assert field.name in expected_schema\n",
    "            assert field.dataType.simpleString() == expected_schema[field.name]\n",
    "\n",
    "    \n",
    "\n",
    "if __name__ == '__main__':\n",
    "    unittest.main(argv=[''], verbosity=2, exit=False)   "
   ]
  },
  {
   "cell_type": "code",
   "execution_count": 0,
   "metadata": {
    "application/vnd.databricks.v1+cell": {
     "cellMetadata": {
      "byteLimit": 2048000,
      "rowLimit": 10000
     },
     "inputWidgets": {},
     "nuid": "93079a29-49e1-4871-a5b5-fc8ce208a5c6",
     "showTitle": false,
     "tableResultSettingsMap": {},
     "title": ""
    }
   },
   "outputs": [
    {
     "output_type": "stream",
     "name": "stderr",
     "output_type": "stream",
     "text": [
      "test_read_file (__main__.TestReadFile.test_read_file) ... ok\ntest_count_dates (__main__.TestSuiteDates.test_count_dates) ... ok\ntest_future_dates (__main__.TestSuiteDates.test_future_dates) ... ok\ntest_schema_table (__main__.TestSuiteSchemaTable.test_schema_table) ... ok\n\n----------------------------------------------------------------------\nRan 4 tests in 1.753s\n\nOK\n"
     ]
    }
   ],
   "source": [
    "import unittest\n",
    "import logging\n",
    "from pyspark.sql import functions as F\n",
    "\n",
    "logging.basicConfig(level = logging.INFO)\n",
    "logger = logging.getLogger(__name__)\n",
    "\n",
    "class TestSuiteDates(unittest.TestCase):\n",
    "\n",
    "  def test_count_dates(self):\n",
    "    logger.info(\"Teste de validação quantidade miníma de datas\")\n",
    "\n",
    "    df_inicial = spark.table('workspace.bronze.vendas_livros')\n",
    "    \n",
    "    df_dates = df_inicial.select(F.col('data_venda')).distinct().orderBy(F.col('data_venda'), ascending = False)\n",
    "\n",
    "    self.assertGreaterEqual(df_dates.count(), 10, \"Não foi possível achar no minímo 10 datas diferentes\")\n",
    "  \n",
    "  def test_future_dates(self):\n",
    "    logger.info(\"Teste de validação de datas futuras\")\n",
    "    \n",
    "    df_inicial = spark.table('workspace.bronze.vendas_livros')\n",
    "    \n",
    "    df_dates = df_inicial.filter(F.col('data_venda') > F.current_date()).count()\n",
    "  \n",
    "    self.assertEqual(df_dates, 0, \"Existem datas de venda no futuro!\")\n",
    "\n",
    "if __name__ == '__main__':\n",
    "    unittest.main(argv=[''], verbosity=2, exit=False)"
   ]
  },
  {
   "cell_type": "code",
   "execution_count": 0,
   "metadata": {
    "application/vnd.databricks.v1+cell": {
     "cellMetadata": {
      "byteLimit": 2048000,
      "rowLimit": 10000
     },
     "inputWidgets": {},
     "nuid": "4cda03f1-b746-4b22-81fa-2e9e0fc81a0f",
     "showTitle": false,
     "tableResultSettingsMap": {},
     "title": ""
    }
   },
   "outputs": [
    {
     "output_type": "stream",
     "name": "stderr",
     "output_type": "stream",
     "text": [
      "test_read_file (__main__.TestReadFile.test_read_file) ... ok\ntest_count_dates (__main__.TestSuiteDates.test_count_dates) ... ok\ntest_future_dates (__main__.TestSuiteDates.test_future_dates) ... ok\ntest_negative_id (__main__.TestSuiteNegatives.test_negative_id) ... ok\ntest_schema_table (__main__.TestSuiteSchemaTable.test_schema_table) ... ok\n\n----------------------------------------------------------------------\nRan 5 tests in 2.013s\n\nOK\n"
     ]
    }
   ],
   "source": [
    "import unittest\n",
    "import logging\n",
    "from pyspark.sql import functions as F\n",
    "\n",
    "logging.basicConfig(level = logging.INFO)\n",
    "logger = logging.getLogger(__name__)\n",
    "\n",
    "class TestSuiteNegatives(unittest.TestCase):\n",
    "\n",
    "  def test_negative_id(self):\n",
    "    logger.info(\"Teste de ids negativos\")\n",
    "\n",
    "    df_inicial = spark.table('workspace.bronze.vendas_livros')\n",
    "\n",
    "    negatives = df_inicial.filter(\n",
    "        (F.col('id_venda') < 0) &\n",
    "        (F.col('id_linha_venda') < 0) &\n",
    "        (F.col('id_livro') < 0)\n",
    "           ).count()\n",
    "\n",
    "    self.assertEqual(negatives, 0, \"Existem ids negativos na tabela\")\n",
    "  \n",
    "if __name__ == '__main__':\n",
    "    unittest.main(argv=[''], verbosity=2, exit=False)"
   ]
  },
  {
   "cell_type": "code",
   "execution_count": 0,
   "metadata": {
    "application/vnd.databricks.v1+cell": {
     "cellMetadata": {
      "byteLimit": 2048000,
      "rowLimit": 10000
     },
     "inputWidgets": {},
     "nuid": "5b0009f1-597c-4953-94ba-07f4fee63a72",
     "showTitle": false,
     "tableResultSettingsMap": {},
     "title": ""
    }
   },
   "outputs": [],
   "source": []
  }
 ],
 "metadata": {
  "application/vnd.databricks.v1+notebook": {
   "computePreferences": null,
   "dashboards": [],
   "environmentMetadata": {
    "base_environment": "",
    "environment_version": "2"
   },
   "inputWidgetPreferences": null,
   "language": "python",
   "notebookMetadata": {
    "mostRecentlyExecutedCommandWithImplicitDF": {
     "commandId": -1,
     "dataframes": [
      "_sqldf"
     ]
    },
    "pythonIndentUnit": 4
   },
   "notebookName": "test_vendas_livraria",
   "widgets": {}
  },
  "language_info": {
   "name": "python"
  }
 },
 "nbformat": 4,
 "nbformat_minor": 0
}