{
 "cells": [
  {
   "cell_type": "markdown",
   "metadata": {
    "application/vnd.databricks.v1+cell": {
     "cellMetadata": {
      "byteLimit": 2048000,
      "rowLimit": 10000
     },
     "inputWidgets": {},
     "nuid": "1dbfd457-a4f6-442f-adb9-ba88fb773da8",
     "showTitle": false,
     "tableResultSettingsMap": {},
     "title": ""
    }
   },
   "source": [
    "# Imports, inicialização dos logs e Workspace Client"
   ]
  },
  {
   "cell_type": "code",
   "execution_count": 0,
   "metadata": {
    "application/vnd.databricks.v1+cell": {
     "cellMetadata": {
      "byteLimit": 2048000,
      "rowLimit": 10000
     },
     "inputWidgets": {},
     "nuid": "a4536b7c-a391-40e3-926b-c967a3024d1d",
     "showTitle": false,
     "tableResultSettingsMap": {},
     "title": ""
    }
   },
   "outputs": [
    {
     "output_type": "stream",
     "name": "stdout",
     "output_type": "stream",
     "text": [
      "Requirement already satisfied: databricks-labs-dqx in /local_disk0/.ephemeral_nfs/envs/pythonEnv-240c7c19-af83-4188-9aa9-5c1a6fd76f73/lib/python3.11/site-packages (0.5.0)\nRequirement already satisfied: databricks-labs-blueprint<0.10,>=0.9.1 in /local_disk0/.ephemeral_nfs/envs/pythonEnv-240c7c19-af83-4188-9aa9-5c1a6fd76f73/lib/python3.11/site-packages (from databricks-labs-dqx) (0.9.3)\nRequirement already satisfied: databricks-labs-lsql<0.15,>=0.5 in /local_disk0/.ephemeral_nfs/envs/pythonEnv-240c7c19-af83-4188-9aa9-5c1a6fd76f73/lib/python3.11/site-packages (from databricks-labs-dqx) (0.14.2)\nRequirement already satisfied: databricks-sdk~=0.30 in /databricks/python3/lib/python3.11/site-packages (from databricks-labs-dqx) (0.40.0)\nRequirement already satisfied: sqlglot>=22.3.1 in /local_disk0/.ephemeral_nfs/envs/pythonEnv-240c7c19-af83-4188-9aa9-5c1a6fd76f73/lib/python3.11/site-packages (from databricks-labs-lsql<0.15,>=0.5->databricks-labs-dqx) (26.30.0)\nRequirement already satisfied: requests<3,>=2.28.1 in /databricks/python3/lib/python3.11/site-packages (from databricks-sdk~=0.30->databricks-labs-dqx) (2.31.0)\nRequirement already satisfied: google-auth~=2.0 in /databricks/python3/lib/python3.11/site-packages (from databricks-sdk~=0.30->databricks-labs-dqx) (2.35.0)\nRequirement already satisfied: pyyaml<7.0.0,>=6.0.0 in /databricks/python3/lib/python3.11/site-packages (from databricks-labs-blueprint[yaml]>=0.4.2->databricks-labs-lsql<0.15,>=0.5->databricks-labs-dqx) (6.0)\nRequirement already satisfied: cachetools<6.0,>=2.0.0 in /databricks/python3/lib/python3.11/site-packages (from google-auth~=2.0->databricks-sdk~=0.30->databricks-labs-dqx) (5.5.0)\nRequirement already satisfied: pyasn1-modules>=0.2.1 in /databricks/python3/lib/python3.11/site-packages (from google-auth~=2.0->databricks-sdk~=0.30->databricks-labs-dqx) (0.2.8)\nRequirement already satisfied: rsa<5,>=3.1.4 in /databricks/python3/lib/python3.11/site-packages (from google-auth~=2.0->databricks-sdk~=0.30->databricks-labs-dqx) (4.9)\nRequirement already satisfied: charset-normalizer<4,>=2 in /databricks/python3/lib/python3.11/site-packages (from requests<3,>=2.28.1->databricks-sdk~=0.30->databricks-labs-dqx) (2.0.4)\nRequirement already satisfied: idna<4,>=2.5 in /databricks/python3/lib/python3.11/site-packages (from requests<3,>=2.28.1->databricks-sdk~=0.30->databricks-labs-dqx) (3.4)\nRequirement already satisfied: urllib3<3,>=1.21.1 in /databricks/python3/lib/python3.11/site-packages (from requests<3,>=2.28.1->databricks-sdk~=0.30->databricks-labs-dqx) (1.26.16)\nRequirement already satisfied: certifi>=2017.4.17 in /databricks/python3/lib/python3.11/site-packages (from requests<3,>=2.28.1->databricks-sdk~=0.30->databricks-labs-dqx) (2023.7.22)\nRequirement already satisfied: pyasn1<0.5.0,>=0.4.6 in /databricks/python3/lib/python3.11/site-packages (from pyasn1-modules>=0.2.1->google-auth~=2.0->databricks-sdk~=0.30->databricks-labs-dqx) (0.4.8)\n\u001B[43mNote: you may need to restart the kernel using %restart_python or dbutils.library.restartPython() to use updated packages.\u001B[0m\n"
     ]
    }
   ],
   "source": [
    "pip install databricks-labs-dqx"
   ]
  },
  {
   "cell_type": "code",
   "execution_count": 0,
   "metadata": {
    "application/vnd.databricks.v1+cell": {
     "cellMetadata": {
      "byteLimit": 2048000,
      "rowLimit": 10000
     },
     "inputWidgets": {},
     "nuid": "96f09ca7-e17d-4e35-97b5-4c675e4c1999",
     "showTitle": false,
     "tableResultSettingsMap": {},
     "title": ""
    }
   },
   "outputs": [],
   "source": [
    "dbutils.library.restartPython()"
   ]
  },
  {
   "cell_type": "code",
   "execution_count": 0,
   "metadata": {
    "application/vnd.databricks.v1+cell": {
     "cellMetadata": {
      "byteLimit": 2048000,
      "rowLimit": 10000
     },
     "inputWidgets": {},
     "nuid": "15021152-f51f-477e-9228-59d7011cfe03",
     "showTitle": false,
     "tableResultSettingsMap": {},
     "title": ""
    }
   },
   "outputs": [],
   "source": [
    "import logging\n",
    "from databricks.sdk import WorkspaceClient\n",
    "from databricks.labs.dqx.profiler.profiler import DQProfiler\n",
    "from databricks.labs.dqx.profiler.generator import DQGenerator\n",
    "from databricks.labs.dqx.profiler.dlt_generator import DQDltGenerator\n",
    "from databricks.labs.dqx.engine import DQEngine\n",
    "from pyspark.sql import functions as F\n",
    "from pyspark.sql.functions import col, sum\n",
    "import yaml\n",
    "\n",
    "logging.basicConfig(level = logging.INFO)\n",
    "logger = logging.getLogger(__name__)\n",
    "\n",
    "ws_client = WorkspaceClient()\n"
   ]
  },
  {
   "cell_type": "markdown",
   "metadata": {
    "application/vnd.databricks.v1+cell": {
     "cellMetadata": {
      "byteLimit": 2048000,
      "rowLimit": 10000
     },
     "inputWidgets": {},
     "nuid": "1cc11d29-8d8e-4ce0-b83b-7defa5dd8fa6",
     "showTitle": false,
     "tableResultSettingsMap": {},
     "title": ""
    }
   },
   "source": [
    "# Funções de qualidade de dados"
   ]
  },
  {
   "cell_type": "code",
   "execution_count": 0,
   "metadata": {
    "application/vnd.databricks.v1+cell": {
     "cellMetadata": {
      "byteLimit": 2048000,
      "rowLimit": 10000
     },
     "inputWidgets": {},
     "nuid": "aa2187a0-2c0b-4def-9faf-6f1c90a7e617",
     "showTitle": false,
     "tableResultSettingsMap": {},
     "title": ""
    }
   },
   "outputs": [],
   "source": [
    "\n",
    "# Função que analisa os dados da tabela e retorna suas estatísticas\n",
    "def profile_data(input_df):\n",
    "    try:\n",
    "        profiler = DQProfiler(ws_client)\n",
    "        summary_stats, profiles = profiler.profile(input_df)\n",
    "        logger.info(\"Profiling OK\")\n",
    "        return summary_stats, profiles\n",
    "    except Exception as e:\n",
    "        logger.error(F'erro no profiling: {str(e)}')\n",
    "        raise\n",
    "\n",
    "# Função que gera as regras de qualidade com base nos perfis gerados\n",
    "def generator_dq_check(profiles):\n",
    "    try:\n",
    "        generator = DQGenerator(ws_client)\n",
    "        checks = generator.generate_dq_rules(profiles)\n",
    "        logger.info(\"Generating DQ Check OK\")\n",
    "        return checks\n",
    "    except Exception as e:\n",
    "        logger.error(F'erro no generator: {str(e)}')   \n",
    "        raise\n",
    "\n",
    "\n",
    "# Função que aplica as regras de qualidade na tabela\n",
    "def apply_quality_checks(input_df, checks):\n",
    "    try:\n",
    "        dq_engine = DQEngine(ws_client)\n",
    "        silver_df, quarantine_df = dq_engine.apply_checks_by_metadata_and_split(input_df, checks)\n",
    "        logger.info(\"Checagens aplicadas com sucesso\")\n",
    "        return silver_df, quarantine_df\n",
    "    except Exception as e:\n",
    "        logger.error(f\"Erro na aplicação de checagens: {str(e)}\")\n",
    "        raise"
   ]
  },
  {
   "cell_type": "markdown",
   "metadata": {
    "application/vnd.databricks.v1+cell": {
     "cellMetadata": {
      "byteLimit": 2048000,
      "rowLimit": 10000
     },
     "inputWidgets": {},
     "nuid": "3bf673a3-7ffe-4703-80bc-e32e93388a82",
     "showTitle": false,
     "tableResultSettingsMap": {},
     "title": ""
    }
   },
   "source": [
    "# Lendo a tabela criada"
   ]
  },
  {
   "cell_type": "code",
   "execution_count": 0,
   "metadata": {
    "application/vnd.databricks.v1+cell": {
     "cellMetadata": {
      "byteLimit": 2048000,
      "rowLimit": 10000
     },
     "inputWidgets": {},
     "nuid": "35223734-a3ec-407c-ad2d-ffc3967936b6",
     "showTitle": false,
     "tableResultSettingsMap": {},
     "title": ""
    }
   },
   "outputs": [
    {
     "output_type": "stream",
     "name": "stdout",
     "output_type": "stream",
     "text": [
      "+----------+--------+--------------+--------+---------+--------------------+----------+--------------------+------+\n|data_venda|id_venda|id_linha_venda|id_livro|qtde_item|          nome_livro| categoria|               autor| preco|\n+----------+--------+--------------+--------+---------+--------------------+----------+--------------------+------+\n|2025-02-04|    4073|          4403|       5|        2|        Dom Casmurro|    Ficção|    Machado de Assis| 86.81|\n|2024-08-25|    5136|          5466|       5|        4|        Dom Casmurro|    Ficção|    Machado de Assis|131.48|\n|2024-12-18|    NULL|          4485|       2|        5|                1984|    Ficção|       George Orwell| 92.92|\n|2025-05-08|    2451|          2781|       9|        2|A Revolução dos B...|    Ficção|       George Orwell|139.69|\n|2024-12-29|    4615|          4945|       1|        1|A Menina que Roub...|    Ficção|        Markus Zusak| 92.76|\n|2025-02-27|    2825|          3155|       8|        5|  O Pequeno Príncipe|    Ficção|Antoine de Saint-...| 42.17|\n|2025-01-02|    3661|          3991|       8|        2|  O Pequeno Príncipe|    Ficção|Antoine de Saint-...| 27.56|\n|2024-09-29|    8160|          8490|       2|        2|                1984|    Ficção|       George Orwell| 26.52|\n|2025-01-28|    8906|          9236|       6|        3|Orgulho e Preconc...|    Ficção|         Jane Austen| 81.92|\n|2024-06-25|    1687|          2017|       9|        2|A Revolução dos B...|    Ficção|       George Orwell| 44.85|\n|2024-12-23|    2267|          2597|       3|        4|             Sapiens|Não Ficção|   Yuval Noah Harari| 48.47|\n|2025-04-19|    6894|          7224|       2|        3|                1984|    Ficção|       George Orwell| 33.35|\n|2024-07-14|    5825|          6155|       6|        5|Orgulho e Preconc...|    Ficção|         Jane Austen|107.09|\n|2025-04-06|    7838|          8168|       8|        4|  O Pequeno Príncipe|    Ficção|Antoine de Saint-...| 82.48|\n|2025-06-01|    9220|          9550|       3|        1|             Sapiens|Não Ficção|   Yuval Noah Harari|110.05|\n|2025-03-08|    5340|          5670|       3|        4|             Sapiens|Não Ficção|   Yuval Noah Harari| 64.24|\n|2024-09-14|      74|           221|       2|        5|                1984|    Ficção|       George Orwell|123.14|\n|2025-05-02|    9562|          9892|       7|        5|   O Código Da Vinci|    Ficção|           Dan Brown|134.48|\n|2024-11-10|    6253|          6583|       8|        4|  O Pequeno Príncipe|    Ficção|Antoine de Saint-...|126.21|\n|2024-10-21|    8804|          9134|       1|        1|A Menina que Roub...|    Ficção|        Markus Zusak| 95.93|\n+----------+--------+--------------+--------+---------+--------------------+----------+--------------------+------+\nonly showing top 20 rows\n"
     ]
    }
   ],
   "source": [
    "logger.info(\"Lendo a tabela de entrada\")\n",
    "\n",
    "try:\n",
    "    df_inicial = spark.table('workspace.default.vendas_livros')\n",
    "    logger.info(f'Tabela lida com sucesso')\n",
    "except Exception as e:\n",
    "    logger.error(f'Erro ao ler a tabela: {str(e)}')\n",
    "\n",
    "df_inicial.show()"
   ]
  },
  {
   "cell_type": "code",
   "execution_count": 0,
   "metadata": {
    "application/vnd.databricks.v1+cell": {
     "cellMetadata": {
      "byteLimit": 2048000,
      "implicitDf": true,
      "rowLimit": 10000
     },
     "inputWidgets": {},
     "nuid": "99139bcf-e3cf-4274-9a62-c3c6d5755539",
     "showTitle": false,
     "tableResultSettingsMap": {},
     "title": ""
    }
   },
   "outputs": [
    {
     "output_type": "execute_result",
     "data": {
      "text/plain": [
       "DataFrame[]"
      ]
     },
     "execution_count": 4,
     "metadata": {},
     "output_type": "execute_result"
    }
   ],
   "source": [
    "# Criacao do schema de tabelas bronze\n",
    "spark.sql(\"CREATE SCHEMA IF NOT EXISTS bronze\")"
   ]
  },
  {
   "cell_type": "code",
   "execution_count": 0,
   "metadata": {
    "application/vnd.databricks.v1+cell": {
     "cellMetadata": {
      "byteLimit": 2048000,
      "rowLimit": 10000
     },
     "inputWidgets": {},
     "nuid": "1e417127-96b6-4cb9-8c4c-10c19e75e87e",
     "showTitle": false,
     "tableResultSettingsMap": {},
     "title": ""
    }
   },
   "outputs": [],
   "source": [
    "# salvamento da tabela no schema bronze\n",
    "df_inicial.write.format(\"delta\").mode(\"overwrite\").option(\"overwriteSchema\", \"true\").saveAsTable(\"bronze.vendas_livros\")"
   ]
  },
  {
   "cell_type": "markdown",
   "metadata": {
    "application/vnd.databricks.v1+cell": {
     "cellMetadata": {
      "byteLimit": 2048000,
      "rowLimit": 10000
     },
     "inputWidgets": {},
     "nuid": "e6960729-68a2-4663-b5f2-6883413ff380",
     "showTitle": false,
     "tableResultSettingsMap": {},
     "title": ""
    }
   },
   "source": [
    "\n",
    "# Testes de qualidade na tabela utilizando o DQX"
   ]
  },
  {
   "cell_type": "code",
   "execution_count": 0,
   "metadata": {
    "application/vnd.databricks.v1+cell": {
     "cellMetadata": {
      "byteLimit": 2048000,
      "rowLimit": 10000
     },
     "inputWidgets": {},
     "nuid": "5aaf5cc9-bfed-48cf-8c7f-8ccc7713c897",
     "showTitle": false,
     "tableResultSettingsMap": {},
     "title": ""
    }
   },
   "outputs": [
    {
     "output_type": "stream",
     "name": "stdout",
     "output_type": "stream",
     "text": [
      "id_venda: {'count': 1000, 'mean': 4574.755308392316, 'stddev': 2822.6645544642715, 'min': 2, '25%': 2109, '50%': 4698, '75%': 6900, 'max': 9657, 'count_non_null': 989, 'count_null': 11}\nid_linha_venda: {'count': 1000, 'mean': 4913.413, 'stddev': 2838.9122031031397, 'min': 4, '25%': 2445, '50%': 5087, '75%': 7253, 'max': 9987, 'count_non_null': 1000, 'count_null': 0}\nid_livro: {'count': 1000, 'mean': 5.009, 'stddev': 2.5759570172179957, 'min': 1, '25%': 3, '50%': 5, '75%': 7, 'max': 9, 'count_non_null': 1000, 'count_null': 0}\nqtde_item: {'count': 1000, 'mean': 3.025, 'stddev': 1.440294917525381, 'min': 1, '25%': 2, '50%': 3, '75%': 4, 'max': 5, 'count_non_null': 1000, 'count_null': 0}\nnome_livro: {'count': 1000, 'mean': 1984.0, 'stddev': 0.0, 'min': '1984', '25%': '1984.0', '50%': '1984.0', '75%': '1984.0', 'max': 'Sapiens', 'count_non_null': 1000, 'count_null': 0}\ncategoria: {'count': 1000, 'mean': None, 'stddev': None, 'min': 'Ficção', '25%': None, '50%': None, '75%': None, 'max': 'Não Ficção', 'count_non_null': 1000, 'count_null': 0}\nautor: {'count': 1000, 'mean': None, 'stddev': None, 'min': 'Antoine de Saint-Exupéry', '25%': None, '50%': None, '75%': None, 'max': 'Yuval Noah Harari', 'count_non_null': 1000, 'count_null': 0}\npreco: {'count': 1000, 'mean': 83.18843999999991, 'stddev': 37.668371663640954, 'min': 20.08, '25%': 50.58, '50%': 80.85, '75%': 115.9, 'max': 149.93, 'count_non_null': 1000, 'count_null': 0}\ndata_venda: {'count': 1000, 'count_non_null': 1000, 'count_null': 0, 'min': datetime.date(2024, 6, 16), 'max': datetime.date(2025, 6, 16), 'mean': datetime.date(2024, 12, 20)}\nDQProfile(name='is_not_null', column='data_venda', description=None, parameters=None)\nDQProfile(name='min_max', column='data_venda', description='Real min/max values were used', parameters={'min': datetime.date(2024, 6, 16), 'max': datetime.date(2025, 6, 16)})\nDQProfile(name='min_max', column='id_venda', description='Real min/max values were used', parameters={'min': 2, 'max': 9657})\nDQProfile(name='is_not_null', column='id_linha_venda', description=None, parameters=None)\nDQProfile(name='min_max', column='id_linha_venda', description='Real min/max values were used', parameters={'min': 4, 'max': 9987})\nDQProfile(name='is_not_null', column='id_livro', description=None, parameters=None)\nDQProfile(name='is_in', column='id_livro', description=None, parameters={'in': [8, 2, 7, 9, 3, 6, 4, 5, 1]})\nDQProfile(name='min_max', column='id_livro', description='Real min/max values were used', parameters={'min': 1, 'max': 9})\nDQProfile(name='is_not_null', column='qtde_item', description=None, parameters=None)\nDQProfile(name='is_in', column='qtde_item', description=None, parameters={'in': [2, 3, 4, 5, 1]})\nDQProfile(name='min_max', column='qtde_item', description='Real min/max values were used', parameters={'min': 1, 'max': 5})\nDQProfile(name='is_not_null', column='nome_livro', description=None, parameters=None)\nDQProfile(name='is_in', column='nome_livro', description=None, parameters={'in': ['O Pequeno Príncipe', '1984', 'O Código Da Vinci', 'A Revolução dos Bichos', 'Sapiens', 'Orgulho e Preconceito', 'O Hobbit', 'Dom Casmurro', 'A Menina que Roubava Livros']})\nDQProfile(name='is_not_null', column='categoria', description=None, parameters=None)\nDQProfile(name='is_in', column='categoria', description=None, parameters={'in': ['Ficção', 'Não Ficção']})\nDQProfile(name='is_not_null', column='autor', description=None, parameters=None)\nDQProfile(name='is_in', column='autor', description=None, parameters={'in': ['Antoine de Saint-Exupéry', 'George Orwell', 'Dan Brown', 'Yuval Noah Harari', 'Jane Austen', 'J.R.R. Tolkien', 'Machado de Assis', 'Markus Zusak']})\nDQProfile(name='is_not_null', column='preco', description=None, parameters=None)\nDQProfile(name='min_max', column='preco', description='Real min/max values were used', parameters={'min': 20.08, 'max': 149.93})\n"
     ]
    }
   ],
   "source": [
    "logger.info(\"Iniciando o Profiling\")\n",
    "\n",
    "summary_stats, profiles = profile_data(df_inicial)\n",
    "\n",
    "for coluna, estatistica in summary_stats.items():\n",
    "    print(f'{coluna}: {estatistica}')\n",
    "\n",
    "for i in profiles: print(i)\n"
   ]
  },
  {
   "cell_type": "code",
   "execution_count": 0,
   "metadata": {
    "application/vnd.databricks.v1+cell": {
     "cellMetadata": {
      "byteLimit": 2048000,
      "rowLimit": 10000
     },
     "inputWidgets": {},
     "nuid": "f7c198b9-f3b3-4478-abab-cfd18b138ff0",
     "showTitle": false,
     "tableResultSettingsMap": {},
     "title": ""
    }
   },
   "outputs": [
    {
     "output_type": "stream",
     "name": "stdout",
     "output_type": "stream",
     "text": [
      "{'check': {'function': 'is_not_null', 'arguments': {'column': 'data_venda'}}, 'name': 'data_venda_is_null', 'criticality': 'error'}\n{'check': {'function': 'is_in_range', 'arguments': {'column': 'id_venda', 'min_limit': 2, 'max_limit': 9657}}, 'name': 'id_venda_isnt_in_range', 'criticality': 'error'}\n{'check': {'function': 'is_not_null', 'arguments': {'column': 'id_linha_venda'}}, 'name': 'id_linha_venda_is_null', 'criticality': 'error'}\n{'check': {'function': 'is_in_range', 'arguments': {'column': 'id_linha_venda', 'min_limit': 4, 'max_limit': 9987}}, 'name': 'id_linha_venda_isnt_in_range', 'criticality': 'error'}\n{'check': {'function': 'is_not_null', 'arguments': {'column': 'id_livro'}}, 'name': 'id_livro_is_null', 'criticality': 'error'}\n{'check': {'function': 'is_in_list', 'arguments': {'column': 'id_livro', 'allowed': [8, 2, 7, 9, 3, 6, 4, 5, 1]}}, 'name': 'id_livro_other_value', 'criticality': 'error'}\n{'check': {'function': 'is_in_range', 'arguments': {'column': 'id_livro', 'min_limit': 1, 'max_limit': 9}}, 'name': 'id_livro_isnt_in_range', 'criticality': 'error'}\n{'check': {'function': 'is_not_null', 'arguments': {'column': 'qtde_item'}}, 'name': 'qtde_item_is_null', 'criticality': 'error'}\n{'check': {'function': 'is_in_list', 'arguments': {'column': 'qtde_item', 'allowed': [2, 3, 4, 5, 1]}}, 'name': 'qtde_item_other_value', 'criticality': 'error'}\n{'check': {'function': 'is_in_range', 'arguments': {'column': 'qtde_item', 'min_limit': 1, 'max_limit': 5}}, 'name': 'qtde_item_isnt_in_range', 'criticality': 'error'}\n{'check': {'function': 'is_not_null', 'arguments': {'column': 'nome_livro'}}, 'name': 'nome_livro_is_null', 'criticality': 'error'}\n{'check': {'function': 'is_in_list', 'arguments': {'column': 'nome_livro', 'allowed': ['O Pequeno Príncipe', '1984', 'O Código Da Vinci', 'A Revolução dos Bichos', 'Sapiens', 'Orgulho e Preconceito', 'O Hobbit', 'Dom Casmurro', 'A Menina que Roubava Livros']}}, 'name': 'nome_livro_other_value', 'criticality': 'error'}\n{'check': {'function': 'is_not_null', 'arguments': {'column': 'categoria'}}, 'name': 'categoria_is_null', 'criticality': 'error'}\n{'check': {'function': 'is_in_list', 'arguments': {'column': 'categoria', 'allowed': ['Ficção', 'Não Ficção']}}, 'name': 'categoria_other_value', 'criticality': 'error'}\n{'check': {'function': 'is_not_null', 'arguments': {'column': 'autor'}}, 'name': 'autor_is_null', 'criticality': 'error'}\n{'check': {'function': 'is_in_list', 'arguments': {'column': 'autor', 'allowed': ['Antoine de Saint-Exupéry', 'George Orwell', 'Dan Brown', 'Yuval Noah Harari', 'Jane Austen', 'J.R.R. Tolkien', 'Machado de Assis', 'Markus Zusak']}}, 'name': 'autor_other_value', 'criticality': 'error'}\n{'check': {'function': 'is_not_null', 'arguments': {'column': 'preco'}}, 'name': 'preco_is_null', 'criticality': 'error'}\n"
     ]
    }
   ],
   "source": [
    "logger.info(\"Gerando as regras de checagem\")\n",
    "\n",
    "checks = generator_dq_check(profiles)\n",
    "\n",
    "for i in (checks): print(i)"
   ]
  },
  {
   "cell_type": "code",
   "execution_count": 0,
   "metadata": {
    "application/vnd.databricks.v1+cell": {
     "cellMetadata": {
      "byteLimit": 2048000,
      "rowLimit": 10000
     },
     "inputWidgets": {},
     "nuid": "8b7e76f8-ab21-4338-87ea-92e7e5bcb3e7",
     "showTitle": false,
     "tableResultSettingsMap": {},
     "title": ""
    }
   },
   "outputs": [
    {
     "output_type": "stream",
     "name": "stdout",
     "output_type": "stream",
     "text": [
      "+----------+--------+--------------+--------+---------+--------------------+---------+----------------+------+\n|data_venda|id_venda|id_linha_venda|id_livro|qtde_item|          nome_livro|categoria|           autor| preco|\n+----------+--------+--------------+--------+---------+--------------------+---------+----------------+------+\n|2025-02-04|    4073|          4403|       5|        2|        Dom Casmurro|   Ficção|Machado de Assis| 86.81|\n|2024-08-25|    5136|          5466|       5|        4|        Dom Casmurro|   Ficção|Machado de Assis|131.48|\n|2024-12-18|    NULL|          4485|       2|        5|                1984|   Ficção|   George Orwell| 92.92|\n|2025-05-08|    2451|          2781|       9|        2|A Revolução dos B...|   Ficção|   George Orwell|139.69|\n|2024-12-29|    4615|          4945|       1|        1|A Menina que Roub...|   Ficção|    Markus Zusak| 92.76|\n+----------+--------+--------------+--------+---------+--------------------+---------+----------------+------+\n\n"
     ]
    }
   ],
   "source": [
    "logger.info(\"Aplicando as regras de checagem\")\n",
    "\n",
    "df_validado, df_quarentena = apply_quality_checks(df_inicial, checks)\n",
    "\n",
    "df_validado.limit(5).show()"
   ]
  },
  {
   "cell_type": "code",
   "execution_count": 0,
   "metadata": {
    "application/vnd.databricks.v1+cell": {
     "cellMetadata": {
      "byteLimit": 2048000,
      "rowLimit": 10000
     },
     "inputWidgets": {},
     "nuid": "6a563f00-6d13-4d5d-b67d-285d1c42e42c",
     "showTitle": false,
     "tableResultSettingsMap": {},
     "title": ""
    }
   },
   "outputs": [
    {
     "output_type": "stream",
     "name": "stdout",
     "output_type": "stream",
     "text": [
      "+----------+--------+--------------+--------+---------+----------+---------+-----+-----+\n|data_venda|id_venda|id_linha_venda|id_livro|qtde_item|nome_livro|categoria|autor|preco|\n+----------+--------+--------------+--------+---------+----------+---------+-----+-----+\n|         0|     101|             0|       0|        0|         0|        0|    0|    0|\n+----------+--------+--------------+--------+---------+----------+---------+-----+-----+\n\n"
     ]
    }
   ],
   "source": [
    "logger.info(\"Verificação de nullos após a aplicação das regras\")\n",
    "nulls = df_validado.select([sum(F.col(c).isNull().cast('int')).alias(c) for c in df_validado.columns])\n",
    "\n",
    "nulls.show()"
   ]
  },
  {
   "cell_type": "code",
   "execution_count": 0,
   "metadata": {
    "application/vnd.databricks.v1+cell": {
     "cellMetadata": {
      "byteLimit": 2048000,
      "rowLimit": 10000
     },
     "inputWidgets": {},
     "nuid": "669439b9-b390-4f77-9873-e0193919dfa7",
     "showTitle": false,
     "tableResultSettingsMap": {},
     "title": ""
    }
   },
   "outputs": [],
   "source": [
    "logger.info(\"Remoção dos nulos\")\n",
    "\n",
    "try: \n",
    "    df_validado = df_validado.dropDuplicates(['id_venda'])\\\n",
    "            .na.drop(subset=['id_venda'])\n",
    "except Exception as e:\n",
    "    logger.error(f'Erro ao remover os nulos: {str(e)}')\n"
   ]
  },
  {
   "cell_type": "code",
   "execution_count": 0,
   "metadata": {
    "application/vnd.databricks.v1+cell": {
     "cellMetadata": {
      "byteLimit": 2048000,
      "rowLimit": 10000
     },
     "inputWidgets": {},
     "nuid": "32c3ccf8-1667-4a49-bd33-edc16e72e4a5",
     "showTitle": false,
     "tableResultSettingsMap": {},
     "title": ""
    }
   },
   "outputs": [],
   "source": [
    "def gerar_tb_autor_mais_popular(df_validado):\n",
    "    try:\n",
    "        valor_autor = df_validado.groupBy('data_venda','autor').agg(F.sum('qtde_item').alias('valor_autor_popular'))\n",
    "\n",
    "        valor_autor = valor_autor.orderBy('data_venda', F.desc('valor_autor_popular')).dropDuplicates(['data_venda']).drop('autor')\n",
    "\n",
    "        return valor_autor\n",
    "    except Exception as e:\n",
    "        logger.info(f'Erro ao gerar a tabela valor_autor: {str(e)}')"
   ]
  },
  {
   "cell_type": "code",
   "execution_count": 0,
   "metadata": {
    "application/vnd.databricks.v1+cell": {
     "cellMetadata": {
      "byteLimit": 2048000,
      "rowLimit": 10000
     },
     "inputWidgets": {},
     "nuid": "e3a51b3d-ef59-462f-9033-cc84981cd75a",
     "showTitle": false,
     "tableResultSettingsMap": {},
     "title": ""
    }
   },
   "outputs": [
    {
     "output_type": "stream",
     "name": "stdout",
     "output_type": "stream",
     "text": [
      "+----------+-------------------+\n|data_venda|valor_autor_popular|\n+----------+-------------------+\n|2024-06-16|                 29|\n|2024-06-17|                 23|\n|2024-06-18|                 19|\n|2024-06-19|                 12|\n|2024-06-20|                 19|\n+----------+-------------------+\n\n"
     ]
    }
   ],
   "source": [
    "logger.info(\"Criação da tabela valor_autor com o autor mais popular da livraria\")\n",
    "\n",
    "valor_autor = gerar_tb_autor_mais_popular(df_validado)\n",
    "valor_autor.orderBy('data_venda').limit(5).show()\n"
   ]
  },
  {
   "cell_type": "code",
   "execution_count": 0,
   "metadata": {
    "application/vnd.databricks.v1+cell": {
     "cellMetadata": {
      "byteLimit": 2048000,
      "rowLimit": 10000
     },
     "inputWidgets": {},
     "nuid": "088052af-f86d-4d18-baa0-41023be35a62",
     "showTitle": false,
     "tableResultSettingsMap": {},
     "title": ""
    }
   },
   "outputs": [
    {
     "output_type": "execute_result",
     "data": {
      "text/plain": [
       "StructType([StructField('data_venda', DateType(), True), StructField('id_venda', LongType(), True), StructField('id_linha_venda', LongType(), True), StructField('id_livro', LongType(), True), StructField('qtde_item', LongType(), True), StructField('nome_livro', StringType(), True), StructField('categoria', StringType(), True), StructField('autor', StringType(), True), StructField('preco', DoubleType(), True)])"
      ]
     },
     "execution_count": 13,
     "metadata": {},
     "output_type": "execute_result"
    }
   ],
   "source": [
    "df_validado.schema"
   ]
  },
  {
   "cell_type": "code",
   "execution_count": 0,
   "metadata": {
    "application/vnd.databricks.v1+cell": {
     "cellMetadata": {
      "byteLimit": 2048000,
      "rowLimit": 10000
     },
     "inputWidgets": {},
     "nuid": "468f42e8-3e4b-4045-becf-a5add71b0426",
     "showTitle": false,
     "tableResultSettingsMap": {},
     "title": ""
    }
   },
   "outputs": [],
   "source": [
    "def gerar_tb_resumo_vendas_diarias(df_validado):\n",
    "    try: \n",
    "        resumo_vendas_diarias = df_validado.groupBy('data_venda')\\\n",
    "            .agg(\n",
    "                F.sum('qtde_item').alias('total_vendas'),\n",
    "                F.sum(\n",
    "                    F.when(F.col('categoria').rlike('(?i)^(?!.*Não)Ficção'), F.col('qtde_item')).otherwise(0)\n",
    "                ).alias('quantidade_ficcao'),\n",
    "                F.sum(\n",
    "                    F.when(F.col('categoria').rlike('(?i)Não Ficção'), F.col('qtde_item')).otherwise(0)\n",
    "                ).alias('quantidade_n_ficcao'),\n",
    "                F.max(F.round(F.col('qtde_item')*F.col('preco'), 2)).alias('valor_maximo_venda'),\n",
    "                F.min(F.round(F.col('qtde_item')*F.col('preco'), 2)).alias('valor_minimo_venda'),\n",
    "                F.round(F.avg((F.col('qtde_item')*F.col('preco'))), 2).alias('valor_medio_venda')\n",
    "            )\n",
    "        resumo_vendas_diarias = resumo_vendas_diarias.join(valor_autor, how='inner', on = 'data_venda')\n",
    "        return resumo_vendas_diarias\n",
    "    except Exception as e:\n",
    "        logger.error(f'Erro ao criar a tabela: {str(e)}')"
   ]
  },
  {
   "cell_type": "code",
   "execution_count": 0,
   "metadata": {
    "application/vnd.databricks.v1+cell": {
     "cellMetadata": {
      "byteLimit": 2048000,
      "rowLimit": 10000
     },
     "inputWidgets": {},
     "nuid": "0c3f561c-80d8-4168-b429-3a56cddc51d6",
     "showTitle": false,
     "tableResultSettingsMap": {},
     "title": ""
    }
   },
   "outputs": [
    {
     "output_type": "stream",
     "name": "stdout",
     "output_type": "stream",
     "text": [
      "+----------+------------+-----------------+-------------------+------------------+------------------+-----------------+-------------------+\n|data_venda|total_vendas|quantidade_ficcao|quantidade_n_ficcao|valor_maximo_venda|valor_minimo_venda|valor_medio_venda|valor_autor_popular|\n+----------+------------+-----------------+-------------------+------------------+------------------+-----------------+-------------------+\n|2024-06-16|          89|               83|                  6|            743.35|             42.72|           213.84|                 29|\n|2024-06-17|         127|              104|                 23|             678.1|             34.87|           245.68|                 23|\n|2024-06-18|          63|               45|                 18|            746.65|             21.85|           267.73|                 19|\n|2024-06-19|          58|               52|                  6|             620.0|             21.73|           210.12|                 12|\n|2024-06-20|          66|               57|                  9|            696.25|              24.0|           270.21|                 19|\n+----------+------------+-----------------+-------------------+------------------+------------------+-----------------+-------------------+\n\n"
     ]
    }
   ],
   "source": [
    "logger.info(\"Criação da tabela resumo_vendas_diarias com todas as colunas exigidas\")\n",
    "\n",
    "resumo_vendas_diarias = gerar_tb_resumo_vendas_diarias(df_validado)\n",
    "resumo_vendas_diarias.orderBy('data_venda').limit(5).show()"
   ]
  },
  {
   "cell_type": "code",
   "execution_count": 0,
   "metadata": {
    "application/vnd.databricks.v1+cell": {
     "cellMetadata": {
      "byteLimit": 2048000,
      "rowLimit": 10000
     },
     "inputWidgets": {},
     "nuid": "273e4b75-1403-483b-a613-949ba867c98f",
     "showTitle": false,
     "tableResultSettingsMap": {},
     "title": ""
    }
   },
   "outputs": [
    {
     "output_type": "execute_result",
     "data": {
      "text/plain": [
       "DataFrame[]"
      ]
     },
     "execution_count": 16,
     "metadata": {},
     "output_type": "execute_result"
    }
   ],
   "source": [
    "# Criacao do schema de tabelas silver\n",
    "spark.sql(\"CREATE SCHEMA IF NOT EXISTS silver\")"
   ]
  },
  {
   "cell_type": "code",
   "execution_count": 0,
   "metadata": {
    "application/vnd.databricks.v1+cell": {
     "cellMetadata": {
      "byteLimit": 2048000,
      "rowLimit": 10000
     },
     "inputWidgets": {},
     "nuid": "fd560640-f44a-4939-ba49-e3c1d50167ea",
     "showTitle": false,
     "tableResultSettingsMap": {},
     "title": ""
    }
   },
   "outputs": [],
   "source": [
    "logger.info(\"Salvando a tabela silver resumo_vendas_diarias\")\n",
    "\n",
    "# salvando a tabela resumo_vendas_diarias\n",
    "resumo_vendas_diarias.write.format('delta').mode('overwrite').option('overwriteSchema', 'true').saveAsTable('silver.resumo_vendas_diarias')"
   ]
  },
  {
   "cell_type": "code",
   "execution_count": 0,
   "metadata": {
    "application/vnd.databricks.v1+cell": {
     "cellMetadata": {
      "byteLimit": 2048000,
      "rowLimit": 10000
     },
     "inputWidgets": {},
     "nuid": "47d3c4e5-5dec-4fd1-becf-8a15b212f955",
     "showTitle": false,
     "tableResultSettingsMap": {},
     "title": ""
    }
   },
   "outputs": [
    {
     "output_type": "stream",
     "name": "stdout",
     "output_type": "stream",
     "text": [
      "George Orwell\n"
     ]
    }
   ],
   "source": [
    "# qual autor mais vende livros na livraria?\n",
    "\n",
    "autor_mais_vendido = df_validado.groupBy('autor').agg(F.sum('qtde_item').alias('vendas'))\n",
    "\n",
    "autor_mais_vendido = autor_mais_vendido.orderBy(F.desc('vendas')).collect()[0][0]\n",
    "\n",
    "print(autor_mais_vendido)\n",
    "logger.info(f'O autor que mais vende livros: {autor_mais_vendido}')\n"
   ]
  },
  {
   "cell_type": "code",
   "execution_count": 0,
   "metadata": {
    "application/vnd.databricks.v1+cell": {
     "cellMetadata": {
      "byteLimit": 2048000,
      "rowLimit": 10000
     },
     "inputWidgets": {},
     "nuid": "f6d73921-5925-4312-9b61-dd85f7f8ee21",
     "showTitle": false,
     "tableResultSettingsMap": {},
     "title": ""
    }
   },
   "outputs": [
    {
     "output_type": "stream",
     "name": "stdout",
     "output_type": "stream",
     "text": [
      "2024-06-17\n"
     ]
    }
   ],
   "source": [
    "# qual a data campeã de vendas na livraria?\n",
    "\n",
    "data_maior_venda = df_validado.groupBy('data_venda').agg(F.sum('qtde_item').alias('vendas_por_data'))\n",
    "\n",
    "data_maior_venda = data_maior_venda.orderBy(F.desc('vendas_por_data')).collect()[0][0]\n",
    "\n",
    "print(data_maior_venda)\n",
    "logger.info(f'A data campeã de vendas: {data_maior_venda}')"
   ]
  },
  {
   "cell_type": "code",
   "execution_count": 0,
   "metadata": {
    "application/vnd.databricks.v1+cell": {
     "cellMetadata": {
      "byteLimit": 2048000,
      "rowLimit": 10000
     },
     "inputWidgets": {},
     "nuid": "238b69f3-99d4-40b9-8e18-813936522436",
     "showTitle": false,
     "tableResultSettingsMap": {},
     "title": ""
    }
   },
   "outputs": [],
   "source": []
  }
 ],
 "metadata": {
  "application/vnd.databricks.v1+notebook": {
   "computePreferences": null,
   "dashboards": [],
   "environmentMetadata": {
    "base_environment": "",
    "environment_version": "2"
   },
   "inputWidgetPreferences": null,
   "language": "python",
   "notebookMetadata": {
    "mostRecentlyExecutedCommandWithImplicitDF": {
     "commandId": 5442660802458067,
     "dataframes": [
      "_sqldf"
     ]
    },
    "pythonIndentUnit": 4
   },
   "notebookName": "vendas_livraria",
   "widgets": {}
  },
  "language_info": {
   "name": "python"
  }
 },
 "nbformat": 4,
 "nbformat_minor": 0
}